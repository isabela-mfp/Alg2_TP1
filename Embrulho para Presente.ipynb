{
 "cells": [
  {
   "cell_type": "markdown",
   "metadata": {},
   "source": [
    "# Trabalho Prático 1 - Geometria Computacional"
   ]
  },
  {
   "cell_type": "markdown",
   "metadata": {},
   "source": [
    "## Algoritmo Embrulho para Presente"
   ]
  },
  {
   "cell_type": "markdown",
   "metadata": {},
   "source": [
    "**Aluna: Isabela Marina Ferreira Pires**<br>\n",
    "**Matrícula: 2017014634**"
   ]
  },
  {
   "cell_type": "markdown",
   "metadata": {},
   "source": [
    "### Algoritmo\n",
    "\n",
    "A ideia do algoritmo é pegar o ponto mais à esquerda e percorrer todos os outros pontos, salvando sempre aquele que está mais à esquerda.<br>\n",
    "A implementação foi primeiro, escolher o pnto mais à esquerda do conjunto de pontos e, em seguida, pegaro próximo ponto do grupo (ponto *q* ). Estes dois pontos serão usados para comparar seus vetores com todos os outros pontos da lista. Se a comparação resultar em uma virada para a direita ou pontos colineares em que o *q* tem o menor raio, o *q* então é atualizado com o valor do ponto que está sendo verificado. Deste modo o *q* troca sempre para o ponto mais à esquerda e é salvo para formar a envoltória convexa.<br>"
   ]
  },
  {
   "cell_type": "code",
   "execution_count": 20,
   "metadata": {},
   "outputs": [],
   "source": [
    "# import\n",
    "import numpy as np"
   ]
  },
  {
   "cell_type": "code",
   "execution_count": 21,
   "metadata": {},
   "outputs": [],
   "source": [
    "# Define para qual direção vira o segmento de pontos\n",
    "def turn(a, b, c, points):\n",
    "    \n",
    "    l = points[a]\n",
    "    i = points[b]\n",
    "    q = points[c]\n",
    "    # calcula os vetores formados pelos segmentos\n",
    "    vec2 = [(i[0] - l[0]), (i[1] - l[1])]\n",
    "    vec1 = [(q[0] - l[0]), (q[1] - l[1])]\n",
    "    # Produto de dois segmentos para determinar a direção\n",
    "    a = (vec1[0]*vec2[1]) - (vec2[0]*vec1[1])\n",
    "    \n",
    "    return a"
   ]
  },
  {
   "cell_type": "code",
   "execution_count": 22,
   "metadata": {},
   "outputs": [],
   "source": [
    "def distancia(a, b, points):\n",
    "\n",
    "    a = points[a]\n",
    "    b = points[b]\n",
    "    aux = ((a[0]-b[0])**2)+ ((a[1]-b[1])**2)\n",
    "    dist = np.sqrt(aux)\n",
    "    \n",
    "    return dist"
   ]
  },
  {
   "cell_type": "code",
   "execution_count": 23,
   "metadata": {},
   "outputs": [
    {
     "name": "stdout",
     "output_type": "stream",
     "text": [
      "[array([0, 0]), array([1, 4]), array([9, 6]), array([7, 0])]\n"
     ]
    }
   ],
   "source": [
    "# Entrada: conjunto de pontos\n",
    "points = [[0, 0],\n",
    "         [3, 1], \n",
    "         [3, 3], \n",
    "         [1, 4], \n",
    "         [5, 2],\n",
    "         [7, 0],\n",
    "         [5, 5],\n",
    "         [9, 6]]\n",
    "points = np.array(points)\n",
    "\n",
    "# Cria listas e arrays necessários para a implementação\n",
    "aux = []\n",
    "S = []  # stack/envoltória convexa\n",
    "\n",
    "# Coloca todos os valores de y em um array\n",
    "for cont in range(len(points)):\n",
    "    aux.append(points[cont][1])\n",
    "\n",
    "# Pega o menor valor de y\n",
    "y = min(aux)\n",
    "a = np.where(aux == y)\n",
    "a = np.array(a[0])\n",
    "\n",
    "# Se o menor valor de y aparecer repetido, pegar o ponto mais à esquerda\n",
    "if len(a) > 1:\n",
    "    aux2 = []\n",
    "    for cont in a:\n",
    "        aux2.append(points[cont][0])\n",
    "    b = min(aux2)\n",
    "    c = np.where(aux2 == b)\n",
    "    # Define o indice em caso de empate entere os y\n",
    "    p0 = points[a[c]]\n",
    "    index = a[c]\n",
    "else:\n",
    "    # Define o ponto p0\n",
    "    p0 = points[a]\n",
    "    index = a\n",
    "    \n",
    "S.append(p0[0])\n",
    "\n",
    "l = index[0]\n",
    "\n",
    "while (True):\n",
    "    q = (l + 1) % len(points)\n",
    "    for cont in range(len(points)):\n",
    "        if cont == l:\n",
    "            continue\n",
    "            \n",
    "        d = turn(l, cont, q, points)\n",
    "        if d > 0 or (d == 0 and distancia(cont, l, points) > distancia(q, l, points)):\n",
    "            q = cont\n",
    "    l = q\n",
    "    if l == index:\n",
    "        break\n",
    "\n",
    "    S.append(points[q])\n",
    "\n",
    "print(S)"
   ]
  }
 ],
 "metadata": {
  "kernelspec": {
   "display_name": "Python 3",
   "language": "python",
   "name": "python3"
  },
  "language_info": {
   "codemirror_mode": {
    "name": "ipython",
    "version": 3
   },
   "file_extension": ".py",
   "mimetype": "text/x-python",
   "name": "python",
   "nbconvert_exporter": "python",
   "pygments_lexer": "ipython3",
   "version": "3.7.3"
  }
 },
 "nbformat": 4,
 "nbformat_minor": 2
}
