{
 "cells": [
  {
   "cell_type": "markdown",
   "metadata": {},
   "source": [
    "# Trabalho Prático 1 - Geometria Computacional"
   ]
  },
  {
   "cell_type": "markdown",
   "metadata": {},
   "source": [
    "## Algoritmo Incremental"
   ]
  },
  {
   "cell_type": "markdown",
   "metadata": {},
   "source": [
    "**Aluna: Isabela Marina Ferreira Pires**<br>\n",
    "**Matrícula: 2017014634**"
   ]
  },
  {
   "cell_type": "markdown",
   "metadata": {},
   "source": [
    "### Algoritmo\n",
    "\n",
    "A ideia do algoritmo incrementl é ir adcionando um por um dos pontos na envoltória convexa e verificar se ele adiciona à envoltória ou, na verdade, está dentro dela.<br>\n",
    "O algoritmo implementado, porém, é uma forma mais robusta para melhorar o tempo de execução. Os pontos são ordenados pela coordenada *x* e os três primeiros são adcionados juntos à envoltória convexa. Então, é realizada uma varredura nos outros pontos de modo que cada ponto encontrado é adcionado à envoltória e, então, comparado com o ponto seguinte e o anterior de modo a conferir se há virada para a diereita. Quando há, o ponto anterior ao novo é descartado e a mesma comparação é feita com o anterior a este. Deste modo, o algoritmo conecta os pontos que formam a envoltória convexa, eleminando aqueles que estão no meio dela. <br>"
   ]
  },
  {
   "cell_type": "code",
   "execution_count": 1,
   "metadata": {},
   "outputs": [],
   "source": [
    "# import\n",
    "import numpy as np"
   ]
  },
  {
   "cell_type": "code",
   "execution_count": 2,
   "metadata": {},
   "outputs": [],
   "source": [
    "def sortSecond(val):\n",
    "    return val[0]  "
   ]
  },
  {
   "cell_type": "code",
   "execution_count": 3,
   "metadata": {},
   "outputs": [],
   "source": [
    "# Define para qual direção vira o segmento de pontos\n",
    "def turn(a, b, c, S):\n",
    "    \n",
    "    l = S[a]\n",
    "    i = S[b]\n",
    "    q = S[c]\n",
    "    # calcula os vetores formados pelos segmentos\n",
    "    vec2 = [(i[0] - l[0]), (i[1] - l[1])]\n",
    "    vec1 = [(q[0] - l[0]), (q[1] - l[1])]\n",
    "    # Produto de dois segmentos para determinar a direção\n",
    "    a = (vec1[0]*vec2[1]) - (vec2[0]*vec1[1])\n",
    "    \n",
    "    return a"
   ]
  },
  {
   "cell_type": "code",
   "execution_count": 13,
   "metadata": {},
   "outputs": [
    {
     "name": "stdout",
     "output_type": "stream",
     "text": [
      "[array([0, 0]), array([1, 4]), array([7, 0]), array([9, 6])]\n"
     ]
    }
   ],
   "source": [
    "# Entrada: conjunto de pontos\n",
    "points = [[0, 0],\n",
    "         [3, 1], \n",
    "         [3, 3], \n",
    "         [1, 4], \n",
    "         [5, 2],\n",
    "         [7, 0],\n",
    "         [5, 5],\n",
    "         [9, 6]]\n",
    "\n",
    "points.sort(key=sortSecond)  \n",
    "points = np.array(points)\n",
    "\n",
    "# Inicialização de listas\n",
    "aux = []\n",
    "S = [] # envoltória convexa\n",
    "\n",
    "for cont in range(len(points)):\n",
    "    if len(S) < 3:\n",
    "        S.append(points[cont])\n",
    "        if points[cont][0] == points[cont+1][0]:\n",
    "            S.append(points[cont+1])\n",
    "            cont = cont + 1\n",
    "    else:\n",
    "        S.append(points[cont])\n",
    "        k = len(S)\n",
    "\n",
    "        # Atualiza borda inferior\n",
    "        pi = k-3 #indice do ponto que liga p na borda inferior\n",
    "        d = turn (pi-2, pi, k-1, S)\n",
    "        while d > 0:\n",
    "            S.pop(pi)\n",
    "            k = len(S)\n",
    "            pi = k-3\n",
    "            d = turn (pi-2, pi, k-1, S)\n",
    "\n",
    "        # Atualiza borda superior\n",
    "        pi = k-2 #indice do ponto que liga p na borda superior\n",
    "        d = turn (pi-2, pi, k-1, S)\n",
    "        while d > 0:\n",
    "            S.pop(pi)\n",
    "            k = len(S)\n",
    "            pi = k-3\n",
    "            d = turn (pi-2, pi, k-1, S)    \n",
    "print(S)"
   ]
  }
 ],
 "metadata": {
  "kernelspec": {
   "display_name": "Python 3",
   "language": "python",
   "name": "python3"
  },
  "language_info": {
   "codemirror_mode": {
    "name": "ipython",
    "version": 3
   },
   "file_extension": ".py",
   "mimetype": "text/x-python",
   "name": "python",
   "nbconvert_exporter": "python",
   "pygments_lexer": "ipython3",
   "version": "3.7.3"
  }
 },
 "nbformat": 4,
 "nbformat_minor": 2
}
