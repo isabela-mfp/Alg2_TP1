{
 "cells": [
  {
   "cell_type": "markdown",
   "metadata": {},
   "source": [
    "# Trabalho Prático 1 - Geometria Computacional"
   ]
  },
  {
   "cell_type": "markdown",
   "metadata": {},
   "source": [
    "## Varredura de Graham"
   ]
  },
  {
   "cell_type": "markdown",
   "metadata": {},
   "source": [
    "**Aluna: Isabela Marina Ferreira Pires**<br>\n",
    "**Matrícula: 2017014634**"
   ]
  },
  {
   "cell_type": "markdown",
   "metadata": {},
   "source": [
    "### Algoritmo\n",
    "\n",
    "A ideia do algoritmo da Varredura de Graham é escolher o ponto mais à esquerda (e com o menor *x* em caso de empate) e ordenar os outros pontos a partir de suas coordenadas polares. A envoltória convexa começa com o p0 e os dois pontos com menor coordenada polar e, a partir deles, vão sendo analisados os ângulos ordenados. Irá entrar na envoltória convexa apenas aqueles que, em conjunto com os que já estão nela, não formam uma virada para a esquerda.<br>"
   ]
  },
  {
   "cell_type": "markdown",
   "metadata": {},
   "source": [
    "### Observação\n",
    "\n",
    "Não operante<br>"
   ]
  },
  {
   "cell_type": "code",
   "execution_count": 26,
   "metadata": {},
   "outputs": [],
   "source": [
    "#imports\n",
    "import numpy as np"
   ]
  },
  {
   "cell_type": "code",
   "execution_count": 27,
   "metadata": {},
   "outputs": [],
   "source": [
    "# Define as coordenas polares de um ponto\n",
    "def coord_p(x, y):\n",
    "    r = np.sqrt(x**2 + y**2)\n",
    "    theta = np.arctan2(y,x)\n",
    "    return r, theta"
   ]
  },
  {
   "cell_type": "code",
   "execution_count": 28,
   "metadata": {},
   "outputs": [],
   "source": [
    "#Verifica se houve uma virada para a esquerda\n",
    "def turn_left(pt1, pt2, c, polaris, points):\n",
    "    p = np.where(points == pt1)\n",
    "    q = np.where(points == pt2)\n",
    "    \n",
    "    if polaris[p][0] < polaris[q][0] and polaris[p][0] < c[0]:\n",
    "        return True\n",
    "    else:\n",
    "        return False"
   ]
  },
  {
   "cell_type": "code",
   "execution_count": 29,
   "metadata": {},
   "outputs": [],
   "source": [
    "# retorna o índice para o ponto na lista inicial de pontos a partir das coordenadas polares\n",
    "def retorna_pts(indice, polaris):\n",
    "    for cont in range(len(polaris)):\n",
    "        if (polaris[cont] == indice).all():\n",
    "            ponto = cont\n",
    "\n",
    "    return ponto"
   ]
  },
  {
   "cell_type": "code",
   "execution_count": 30,
   "metadata": {},
   "outputs": [],
   "source": [
    "# função para ordenação. Ordena com base no eixo 1\n",
    "def sortSecond(val):\n",
    "    return val[1]  "
   ]
  },
  {
   "cell_type": "code",
   "execution_count": 31,
   "metadata": {},
   "outputs": [
    {
     "name": "stdout",
     "output_type": "stream",
     "text": [
      "[array([0, 0]), array([3, 1]), array([3, 3]), array([1, 4]), array([5, 2]), array([5, 5]), array([9, 6])]\n"
     ]
    }
   ],
   "source": [
    "# Entrada: conjunto de pontos\n",
    "points = [[0, 0],\n",
    "         [3, 1], \n",
    "         [3, 3], \n",
    "         [1, 4], \n",
    "         [5, 2],\n",
    "         [7, 0],\n",
    "         [5, 5],\n",
    "         [9, 6]]\n",
    "points = np.array(points)\n",
    "\n",
    "# Cria listas e arrays necessários para a implementação\n",
    "aux = []\n",
    "S = []  # stack/envoltória convexa\n",
    "polaris = [[0 for x in range(2)] for y in range(len(points))] # lista para coordenadas polares\n",
    "\n",
    "# Coloca todos os valores de y em um array\n",
    "for cont in range(len(points)):\n",
    "    aux.append(points[cont][1])\n",
    "\n",
    "# Pega o menor valor de y\n",
    "y = min(aux)\n",
    "a = np.where(aux == y)\n",
    "a = np.array(a[0])\n",
    "\n",
    "# Se o menor valor de y aparecer repetido, pegar o ponto mais à esquerda\n",
    "if len(a) > 1:\n",
    "    aux2 = []\n",
    "    for cont in a:\n",
    "        aux2.append(points[cont][0])\n",
    "    b = min(aux2)\n",
    "    c = np.where(aux2 == b)\n",
    "    # Define o ponto p0 em caso de empate entere os y\n",
    "    p0 = points[a[c]]\n",
    "else:\n",
    "    # Define o ponto p0\n",
    "    p0 = points[a]\n",
    "    \n",
    "# Calcula as coordenadas polares\n",
    "for cont in range(len(points)):\n",
    "    raio, angulo = coord_p(points[cont][0], points[cont][1])\n",
    "    polaris[cont] = [raio, angulo]\n",
    "\n",
    "\n",
    "#ordena os angulos do menor para o maior\n",
    "angles_sorted = polaris\n",
    "angles_sorted.sort(key=sortSecond)\n",
    "angles_sorted = np.array(angles_sorted)\n",
    "polaris = np.array(polaris)\n",
    "\n",
    "# Quando a menor envoltória convexa são os únicos 3 pontos do conjunto\n",
    "if k == 3:\n",
    "    print(resultado)\n",
    "    \n",
    "else:\n",
    "    for cont in angles_sorted:\n",
    "        m = len(S)\n",
    "        if m < 3:\n",
    "            c = retorna_pts(cont, polaris)\n",
    "            S.append(points[c])\n",
    "        else:\n",
    "            a = S[m-1]\n",
    "            b = S[m-2]\n",
    "            c = cont\n",
    "            while turn_left(a, b, d, polaris, points) == True:\n",
    "                S.pop()\n",
    "                m = m-1\n",
    "                if m < 3:\n",
    "                    c = retorna_pts(cont, polaris)\n",
    "                    S.append(points[c])\n",
    "                    break\n",
    "                a = S[m-1]\n",
    "                b = S[m-2]\n",
    "                c = cont\n",
    "\n",
    "            c = retorna_pts(cont, polaris)\n",
    "            S.append(points[c])\n",
    "        \n",
    "    print(S)"
   ]
  }
 ],
 "metadata": {
  "kernelspec": {
   "display_name": "Python 3",
   "language": "python",
   "name": "python3"
  },
  "language_info": {
   "codemirror_mode": {
    "name": "ipython",
    "version": 3
   },
   "file_extension": ".py",
   "mimetype": "text/x-python",
   "name": "python",
   "nbconvert_exporter": "python",
   "pygments_lexer": "ipython3",
   "version": "3.7.3"
  }
 },
 "nbformat": 4,
 "nbformat_minor": 2
}
